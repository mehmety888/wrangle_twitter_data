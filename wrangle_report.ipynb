{
 "cells": [
  {
   "cell_type": "markdown",
   "metadata": {},
   "source": [
    "# WeRateDogs Twitter Data Wrangling\n",
    "The stages for WeRateDogs data are described in detail below:"
   ]
  },
  {
   "cell_type": "markdown",
   "metadata": {},
   "source": [
    "## Gathering Data \n",
    "In this project data is gathered from 3 different sources:\n",
    "\n",
    "- From flat file using Pandas' read_csv method as `twitter_archive_df`\n",
    "- Downloading flat file (.tsv) from Internet using request library and using read_csv method with sep ='\\t' option as `image_predictions_df`\n",
    "- Data is gathered via the Twitter API: Firstly, developer account is obtained. Then, various keys are generated to get api object. Using get_status method, the data is gathered for each tweet in twitter_archive_df as a line and saved as a text file.Then line by line these tweets are read as JSON format,and queried for tweet_id, retweet count and favorite count,finally gathering as a dataframe: `retweet_favorite_df`"
   ]
  },
  {
   "cell_type": "markdown",
   "metadata": {},
   "source": [
    "## Assessing Data\n",
    "#### Visual Assessment (Quality)\n",
    "##### twitter_archive_df: \n",
    "- Almost all values in the columns: in_reply_to_status_id, in_reply_to_user_id, retweeted_status_id, retweeted_status_user_id, retweeted_status_timestamp are missing. (missing values)\n",
    "- denominator_rating for tweet_id: 666287406224695296 is 2 (WeRateDogs has a unique rating system which has denominator_rating as 10)\n",
    "- Dog names are: 'None','such','quite','a','an','the'\n",
    "\n",
    "##### image_predictions_df:\n",
    "- Dog breeds sometimes start with uppercase sometimes all lowercase. \n",
    "\n",
    "#### Programmatic Assessment (Quality)\n",
    "- Using `.info()` method, number of non-missing values and data types can be observed: some of the datatypes are erroneous.\n",
    "\n",
    "- Using `twitter_archive_df.rating_denominator.value_counts()` and `twitter_archive_df.rating_numerator.value_counts()`, denominator_ratings other than 10, and very high numerator_ratings are checked one by one. Some of these ratings are found to be misinterpreted, some of them includes multiple ratings. \n",
    "\n",
    "- Some of the tweets are retweets or replied tweets. (duplicate)\n",
    "\n",
    "- Looking at `text` of some tweets it is found that some dog stages are missed in dog stage columns. (doggo,floofer,pupper,puppo)\n",
    "\n",
    "#### Visual Assessment (Tidiness)\n",
    "- All tables can be merged into one table\n",
    "- columns doggo, floofer, pupper, puppo can be merged as stage column"
   ]
  },
  {
   "cell_type": "markdown",
   "metadata": {},
   "source": [
    "## Cleaning Data\n",
    "- The tables are copied before cleaning the data.\n",
    "\n",
    "- First it's needed to clean duplicate tweets (retweets or replies other than NaN) because using them in the analysis will result in inaccurate analysis. Then colums related to retweets or replies need to be dropped using `.drop` method because all of the values will ne NaN.\n",
    "\n",
    "- Dog stages are extracted from the text column because some values were missing.Then these columns are merged to dog_stage column using .join, dropping NaN values.\n",
    "\n",
    "- All three tables merged on all_clean table.\n",
    "\n",
    "- Tweets does not include dog ratings are dropped. Tweets with misinterpreted ratings' text are read and one by one ratings replaced with correct ratings using `.at` method . Ratings of tweets with multiple dogs are divided by number of dogs. Then rating_denominator column is dropped as all of them are 10.\n",
    "\n",
    "- Incorrect dog names are replaced with NaN using .replace \n",
    "\n",
    "- Erroneous data types are converted to correct ones using `.astype` and `.to_datetime` \n",
    "\n",
    "- Name of dog breed are made lowercase using `.str.lower()`\n",
    "\n",
    "**All data is stored in 'twitter_archive_master.csv' file.**"
   ]
  }
 ],
 "metadata": {
  "kernelspec": {
   "display_name": "Python 3",
   "language": "python",
   "name": "python3"
  },
  "language_info": {
   "codemirror_mode": {
    "name": "ipython",
    "version": 3
   },
   "file_extension": ".py",
   "mimetype": "text/x-python",
   "name": "python",
   "nbconvert_exporter": "python",
   "pygments_lexer": "ipython3",
   "version": "3.6.3"
  }
 },
 "nbformat": 4,
 "nbformat_minor": 2
}
